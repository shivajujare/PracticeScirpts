{
 "cells": [
  {
   "cell_type": "code",
   "execution_count": null,
   "metadata": {
    "application/vnd.databricks.v1+cell": {
     "cellMetadata": {},
     "inputWidgets": {},
     "nuid": "67a40495-7405-477c-a1cf-7c8975ba9c79",
     "showTitle": false,
     "title": ""
    }
   },
   "outputs": [],
   "source": [
    "def mount_adls(container_name, storage_account, client_id, tenant_id, secret):\n",
    "    configs = {\"fs.azure.account.auth.type\": \"OAuth\",\n",
    "           \"fs.azure.account.oauth.provider.type\": \"org.apache.hadoop.fs.azurebfs.oauth2.ClientCredsTokenProvider\",\n",
    "           \"fs.azure.account.oauth2.client.id\": f\"{client_id}\",\n",
    "           \"fs.azure.account.oauth2.client.secret\": f\"{secret}\",\n",
    "           \"fs.azure.account.oauth2.client.endpoint\": f\"https://login.microsoftonline.com/{tenant_id}/oauth2/token\"}\n",
    "    \n",
    "    dbutils.fs.mount(\n",
    "    source = f\"abfss://{container_name}@{storage_account}.dfs.core.windows.net/\",\n",
    "    mount_point = f\"/mnt/{storage_account}/{container_name}\",\n",
    "    extra_configs = configs)"
   ]
  },
  {
   "cell_type": "code",
   "execution_count": null,
   "metadata": {
    "application/vnd.databricks.v1+cell": {
     "cellMetadata": {},
     "inputWidgets": {},
     "nuid": "db1676b8-e568-40d5-942b-06ebee10203e",
     "showTitle": false,
     "title": ""
    }
   },
   "outputs": [],
   "source": [
    "#storage_account = \"retailadls218\"\n",
    "#client_id            = dbutils.secrets.get(scope=\"retail-scope\", key=\"sp-client-id\")\n",
    "#tenant_id            = dbutils.secrets.get(scope=\"retail-scope\", key=\"sp-tenant-id\")\n",
    "#client_secret        = dbutils.secrets.get(scope=\"retail-scope\", key=\"sp-secret-value\")\n",
    "\n",
    "#mount_adls('rejects',storage_account,client_id,tenant_id,client_secret )"
   ]
  },
  {
   "cell_type": "code",
   "execution_count": null,
   "metadata": {
    "application/vnd.databricks.v1+cell": {
     "cellMetadata": {},
     "inputWidgets": {},
     "nuid": "f5fc975b-8281-4ddc-a73a-057fc91c222b",
     "showTitle": false,
     "title": ""
    }
   },
   "outputs": [],
   "source": [
    "#dbutils.fs.mounts()"
   ]
  },
  {
   "cell_type": "code",
   "execution_count": null,
   "metadata": {
    "application/vnd.databricks.v1+cell": {
     "cellMetadata": {
      "byteLimit": 2048000,
      "rowLimit": 10000
     },
     "inputWidgets": {},
     "nuid": "f4889f29-03da-4100-9dc3-1cb2ca92ca9a",
     "showTitle": false,
     "title": ""
    }
   },
   "outputs": [],
   "source": [
    "def read_df(vformat, vpath):\n",
    "    df = spark.read \\\n",
    "                .format(vformat) \\\n",
    "                .option(\"header\",True) \\\n",
    "                .option(\"inferSchema\", True) \\\n",
    "                .option(\"path\",vpath) \\\n",
    "                .load()\n",
    "    return df"
   ]
  },
  {
   "cell_type": "code",
   "execution_count": null,
   "metadata": {},
   "outputs": [],
   "source": [
    "def read_df_w_schema(vformat,schema, vpath):\n",
    "    df = spark.read \\\n",
    "                .format(vformat) \\\n",
    "                .option(\"header\",True) \\\n",
    "                .option(\"schema\", schema) \\\n",
    "                .option(\"path\",vpath) \\\n",
    "                .load()\n",
    "    return df"
   ]
  },
  {
   "cell_type": "code",
   "execution_count": null,
   "metadata": {},
   "outputs": [],
   "source": [
    "def read_df_nested_json(schema, vpath):\n",
    "    df = spark.read \\\n",
    "                .format('json') \\\n",
    "                .option(\"schema\", schema) \\\n",
    "                .option(\"multiline\",True) \\\n",
    "                .option(\"path\",vpath) \\\n",
    "                .load()\n",
    "    return df"
   ]
  },
  {
   "cell_type": "code",
   "execution_count": null,
   "metadata": {
    "application/vnd.databricks.v1+cell": {
     "cellMetadata": {
      "byteLimit": 2048000,
      "rowLimit": 10000
     },
     "inputWidgets": {},
     "nuid": "17aeccaa-14e8-4a4d-a10d-3b8d53f988ee",
     "showTitle": false,
     "title": ""
    }
   },
   "outputs": [
    {
     "data": {
      "text/html": [
       "<style scoped>\n",
       "  .table-result-container {\n",
       "    max-height: 300px;\n",
       "    overflow: auto;\n",
       "  }\n",
       "  table, th, td {\n",
       "    border: 1px solid black;\n",
       "    border-collapse: collapse;\n",
       "  }\n",
       "  th, td {\n",
       "    padding: 5px;\n",
       "  }\n",
       "  th {\n",
       "    text-align: left;\n",
       "  }\n",
       "</style><div class='table-result-container'><table class='table-result'><thead style='background-color: white'><tr><th>order_id</th><th>order_date</th><th>customer_id</th><th>order_status</th></tr></thead><tbody><tr><td>1111111</td><td>00:00.0</td><td>11599</td><td>CLOSED</td></tr><tr><td>2222222</td><td>00:00.0</td><td>256</td><td>PENDING_PAYMENT</td></tr><tr><td>1111111</td><td>00:00.0</td><td>12111</td><td>COMPLETE</td></tr><tr><td>4444444</td><td>00:00.0</td><td>8827</td><td>CLOSED</td></tr></tbody></table></div>"
      ]
     },
     "metadata": {
      "application/vnd.databricks.v1+output": {
       "addedWidgets": {},
       "aggData": [],
       "aggError": "",
       "aggOverflow": false,
       "aggSchema": [],
       "aggSeriesLimitReached": false,
       "aggType": "",
       "arguments": {},
       "columnCustomDisplayInfos": {},
       "data": [
        [
         1111111,
         "00:00.0",
         11599,
         "CLOSED"
        ],
        [
         2222222,
         "00:00.0",
         256,
         "PENDING_PAYMENT"
        ],
        [
         1111111,
         "00:00.0",
         12111,
         "COMPLETE"
        ],
        [
         4444444,
         "00:00.0",
         8827,
         "CLOSED"
        ]
       ],
       "datasetInfos": [],
       "dbfsResultPath": null,
       "isJsonSchema": true,
       "metadata": {},
       "overflow": false,
       "plotOptions": {
        "customPlotOptions": {},
        "displayType": "table",
        "pivotAggregation": null,
        "pivotColumns": null,
        "xColumns": null,
        "yColumns": null
       },
       "removedWidgets": [],
       "schema": [
        {
         "metadata": "{}",
         "name": "order_id",
         "type": "\"integer\""
        },
        {
         "metadata": "{}",
         "name": "order_date",
         "type": "\"string\""
        },
        {
         "metadata": "{}",
         "name": "customer_id",
         "type": "\"integer\""
        },
        {
         "metadata": "{}",
         "name": "order_status",
         "type": "\"string\""
        }
       ],
       "type": "table"
      }
     },
     "output_type": "display_data"
    }
   ],
   "source": [
    "#display(read_df('csv','/mnt/retailadls218/raw/orders.csv'))"
   ]
  },
  {
   "cell_type": "code",
   "execution_count": null,
   "metadata": {
    "application/vnd.databricks.v1+cell": {
     "cellMetadata": {
      "byteLimit": 2048000,
      "rowLimit": 10000
     },
     "inputWidgets": {},
     "nuid": "d3a93047-3830-4e78-9acc-7270b8141586",
     "showTitle": false,
     "title": ""
    }
   },
   "outputs": [],
   "source": [
    "def read_sql_table(vserver, vport, vDBName, vDBUser, Vpassword, vtable):\n",
    "    connectionUrl='jdbc:sqlserver://{}.database.windows.net:{};database={};user={};'.format(vserver,vport,vDBName,vDBUser)\n",
    "\n",
    "    connectionProperties={\n",
    "                        'password':Vpassword,\n",
    "                        'driver':'com.microsoft.sqlserver.jdbc.SQLServerDriver'\n",
    "                        }\n",
    "    \n",
    "    sql_DF = spark.read \\\n",
    "                    .jdbc( url=connectionUrl,\n",
    "                           table=vtable,\n",
    "                           properties=connectionProperties\n",
    "                         )\n",
    "    return sql_DF\n",
    "\n"
   ]
  },
  {
   "cell_type": "code",
   "execution_count": null,
   "metadata": {
    "application/vnd.databricks.v1+cell": {
     "cellMetadata": {
      "byteLimit": 2048000,
      "rowLimit": 10000
     },
     "inputWidgets": {},
     "nuid": "cc9edde8-937a-4999-8a58-56bbcb128592",
     "showTitle": false,
     "title": ""
    }
   },
   "outputs": [],
   "source": [
    "def write_w_part(df, vformat, vpath, vpartcol, vmode, vtable):\n",
    "    df.write \\\n",
    "        .option(\"header\",True) \\\n",
    "        .format(vformat) \\\n",
    "        .option(\"path\",vpath) \\\n",
    "        .partitionBy(vpartcol) \\\n",
    "        .mode(vmode) \\\n",
    "        .saveAsTable(vtable )\n",
    "    return df"
   ]
  },
  {
   "cell_type": "code",
   "execution_count": null,
   "metadata": {
    "application/vnd.databricks.v1+cell": {
     "cellMetadata": {
      "byteLimit": 2048000,
      "rowLimit": 10000
     },
     "inputWidgets": {},
     "nuid": "5e71bb37-b14d-4be7-af9d-75f32d8e891c",
     "showTitle": false,
     "title": ""
    }
   },
   "outputs": [],
   "source": [
    "def write_df(df, vformat, vpath, vmode):\n",
    "    df.write \\\n",
    "        .option(\"header\",True) \\\n",
    "        .format(vformat) \\\n",
    "        .option(\"path\",vpath) \\\n",
    "        .mode(vmode) \\\n",
    "        .save()\n",
    "    return df"
   ]
  },
  {
   "cell_type": "code",
   "execution_count": null,
   "metadata": {
    "application/vnd.databricks.v1+cell": {
     "cellMetadata": {},
     "inputWidgets": {},
     "nuid": "1bf189f9-a9f9-4f00-a48b-df91628df492",
     "showTitle": false,
     "title": ""
    }
   },
   "outputs": [],
   "source": []
  }
 ],
 "metadata": {
  "application/vnd.databricks.v1+notebook": {
   "dashboards": [],
   "language": "python",
   "notebookMetadata": {
    "pythonIndentUnit": 4
   },
   "notebookName": "utilities",
   "widgets": {}
  },
  "language_info": {
   "name": "python"
  }
 },
 "nbformat": 4,
 "nbformat_minor": 0
}
