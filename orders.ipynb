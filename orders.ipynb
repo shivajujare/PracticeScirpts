{
 "cells": [
  {
   "cell_type": "code",
   "execution_count": 0,
   "metadata": {
    "application/vnd.databricks.v1+cell": {
     "cellMetadata": {
      "byteLimit": 2048000,
      "rowLimit": 10000
     },
     "inputWidgets": {},
     "nuid": "810b0c58-226f-4e59-b450-cd4cc15ffd8d",
     "showTitle": false,
     "title": ""
    }
   },
   "outputs": [],
   "source": [
    "%run \"/Users/sivajujare@outlook.com/utilities\"\n"
   ]
  },
  {
   "cell_type": "code",
   "execution_count": 0,
   "metadata": {
    "application/vnd.databricks.v1+cell": {
     "cellMetadata": {},
     "inputWidgets": {},
     "nuid": "2272c56d-32dd-4ac8-8cba-d922622d8a15",
     "showTitle": false,
     "title": ""
    }
   },
   "outputs": [],
   "source": [
    "filename = dbutils.widgets.get('a_filename')\n",
    "fname = filename.split('.')[0]\n",
    "print(fname)"
   ]
  },
  {
   "cell_type": "code",
   "execution_count": 0,
   "metadata": {
    "application/vnd.databricks.v1+cell": {
     "cellMetadata": {
      "byteLimit": 2048000,
      "rowLimit": 10000
     },
     "inputWidgets": {},
     "nuid": "d2ec9ec4-5cb1-488c-a46c-753823c0b09e",
     "showTitle": false,
     "title": ""
    }
   },
   "outputs": [],
   "source": [
    "import datetime\n",
    "from pyspark.sql.functions import lit\n",
    "dates = datetime.datetime.now().strftime(\"%Y-%m-%d\")"
   ]
  },
  {
   "cell_type": "code",
   "execution_count": 0,
   "metadata": {
    "application/vnd.databricks.v1+cell": {
     "cellMetadata": {
      "byteLimit": 2048000,
      "rowLimit": 10000
     },
     "inputWidgets": {},
     "nuid": "3528e341-0d5c-423c-bc59-79ca8dbbf85d",
     "showTitle": false,
     "title": ""
    }
   },
   "outputs": [],
   "source": [
    "orders_df = read_df('csv','/mnt/retailadls218/raw/orders.csv') \\\n",
    "                .withColumn(\"ingest_date\", lit(dates))\n"
   ]
  },
  {
   "cell_type": "code",
   "execution_count": 0,
   "metadata": {
    "application/vnd.databricks.v1+cell": {
     "cellMetadata": {
      "byteLimit": 2048000,
      "rowLimit": 10000
     },
     "inputWidgets": {},
     "nuid": "f93cd845-0747-432e-bc2f-82507beba635",
     "showTitle": false,
     "title": ""
    }
   },
   "outputs": [],
   "source": [
    "from pyspark.sql.functions import col, count\n",
    "\n",
    "dups = orders_df.select('order_id') \\\n",
    "                .groupBy('order_id') \\\n",
    "                .agg(count('order_id').alias('dcount')) \\\n",
    "                .filter(col('dcount') > 1) \n",
    "\n",
    "dups_order_ids = [row.order_id for row in dups.select(\"order_id\").distinct().collect()]\n",
    "\n",
    "dups_orders = orders_df.filter(col(\"order_id\").isin(dups_order_ids))"
   ]
  },
  {
   "cell_type": "code",
   "execution_count": 0,
   "metadata": {
    "application/vnd.databricks.v1+cell": {
     "cellMetadata": {
      "byteLimit": 2048000,
      "rowLimit": 10000
     },
     "inputWidgets": {},
     "nuid": "cd822157-0b11-4b6b-8b6b-1a0bb7d1fa2d",
     "showTitle": false,
     "title": ""
    }
   },
   "outputs": [],
   "source": [
    "if (dups.rdd.isEmpty() == False):\n",
    "    write_w_part(dups_orders, \"parquet\", \"/mnt/retailadls218/rejects/orders/\", \"ingest_date\", \"append\", \"retail.orders_rejects\")\n",
    "    dbutils.notebook.exit(\"duplicates found, so exiting the process\")"
   ]
  },
  {
   "cell_type": "code",
   "execution_count": 0,
   "metadata": {
    "application/vnd.databricks.v1+cell": {
     "cellMetadata": {
      "byteLimit": 2048000,
      "rowLimit": 10000
     },
     "inputWidgets": {},
     "nuid": "cbcb88a7-b354-4ad9-9b40-2ef29071d220",
     "showTitle": false,
     "title": ""
    }
   },
   "outputs": [],
   "source": [
    "databricksScope='retail-scope'\n",
    "\n",
    "dbServer= dbutils.secrets.get(scope=databricksScope,key='sql-server-name') \n",
    "dbPort='1433'\n",
    "dbName= dbutils.secrets.get(scope=databricksScope,key='sql-database-name') \n",
    "dbUser= dbutils.secrets.get(scope=databricksScope,key='sql-user') \n",
    "dbPassword=dbutils.secrets.get(scope=databricksScope,key='sql-password')\n",
    "\n",
    "lkp_df = read_sql_table(dbServer, dbPort, dbName, dbUser, dbPassword, 'dbo.valid_order_status')"
   ]
  },
  {
   "cell_type": "code",
   "execution_count": 0,
   "metadata": {
    "application/vnd.databricks.v1+cell": {
     "cellMetadata": {
      "byteLimit": 2048000,
      "rowLimit": 10000
     },
     "inputWidgets": {},
     "nuid": "8b03dffd-19a2-4fc4-af27-77433c3afdf2",
     "showTitle": false,
     "title": ""
    }
   },
   "outputs": [],
   "source": [
    "status_names = [row.status_name for row in lkp_df.select(\"status_name\").distinct().collect()]\n",
    "\n",
    "not_mat_df = orders_df.filter(~col(\"order_status\").isin(status_names))"
   ]
  },
  {
   "cell_type": "code",
   "execution_count": 0,
   "metadata": {
    "application/vnd.databricks.v1+cell": {
     "cellMetadata": {
      "byteLimit": 2048000,
      "rowLimit": 10000
     },
     "inputWidgets": {},
     "nuid": "e8e7dcf4-4d1e-4122-b1b9-a7dfccf76917",
     "showTitle": false,
     "title": ""
    }
   },
   "outputs": [],
   "source": [
    "if (not_mat_df.rdd.isEmpty() == False):\n",
    "    write_w_part(not_mat_df, \"parquet\", \"/mnt/retailadls218/rejects/orders/\", \"ingest_date\", \"append\", \"retail.orders_rejects\")\n",
    "    dbutils.notebook.exit(\"missing records found, so exiting the process\")"
   ]
  },
  {
   "cell_type": "code",
   "execution_count": 0,
   "metadata": {
    "application/vnd.databricks.v1+cell": {
     "cellMetadata": {
      "byteLimit": 2048000,
      "rowLimit": 10000
     },
     "inputWidgets": {},
     "nuid": "5af9a7a6-5875-4029-a238-72de31d8534c",
     "showTitle": false,
     "title": ""
    }
   },
   "outputs": [
    {
     "output_type": "display_data",
     "data": {
      "text/html": [
       "<style scoped>\n",
       "  .table-result-container {\n",
       "    max-height: 300px;\n",
       "    overflow: auto;\n",
       "  }\n",
       "  table, th, td {\n",
       "    border: 1px solid black;\n",
       "    border-collapse: collapse;\n",
       "  }\n",
       "  th, td {\n",
       "    padding: 5px;\n",
       "  }\n",
       "  th {\n",
       "    text-align: left;\n",
       "  }\n",
       "</style><div class='table-result-container'><table class='table-result'><thead style='background-color: white'><tr><th>order_id</th><th>order_date</th><th>customer_id</th><th>order_status</th><th>ingest_date</th></tr></thead><tbody><tr><td>2222222</td><td>00:00.0</td><td>256</td><td>PENDING_PAYMENT</td><td>2024-03-01</td></tr></tbody></table></div>"
      ]
     },
     "metadata": {
      "application/vnd.databricks.v1+output": {
       "addedWidgets": {},
       "aggData": [],
       "aggError": "",
       "aggOverflow": false,
       "aggSchema": [],
       "aggSeriesLimitReached": false,
       "aggType": "",
       "arguments": {},
       "columnCustomDisplayInfos": {},
       "data": [
        [
         2222222,
         "00:00.0",
         256,
         "PENDING_PAYMENT",
         "2024-03-01"
        ]
       ],
       "datasetInfos": [],
       "dbfsResultPath": null,
       "isJsonSchema": true,
       "metadata": {},
       "overflow": false,
       "plotOptions": {
        "customPlotOptions": {},
        "displayType": "table",
        "pivotAggregation": null,
        "pivotColumns": null,
        "xColumns": null,
        "yColumns": null
       },
       "removedWidgets": [],
       "schema": [
        {
         "metadata": "{}",
         "name": "order_id",
         "type": "\"integer\""
        },
        {
         "metadata": "{}",
         "name": "order_date",
         "type": "\"string\""
        },
        {
         "metadata": "{}",
         "name": "customer_id",
         "type": "\"integer\""
        },
        {
         "metadata": "{}",
         "name": "order_status",
         "type": "\"string\""
        },
        {
         "metadata": "{}",
         "name": "ingest_date",
         "type": "\"string\""
        }
       ],
       "type": "table"
      }
     },
     "output_type": "display_data"
    }
   ],
   "source": [
    "missing_status_ids = [row.order_id for row in not_mat_df.select(\"order_id\").distinct().collect()]\n",
    "dup_ord_ids = [row.order_id for row in dups.select(\"order_id\").distinct().collect()]\n",
    "\n",
    "orders_wo_missing_status_ids = orders_df.filter(~col(\"order_id\").isin(missing_status_ids))\n",
    "orders_wo_dups = orders_wo_missing_status_ids.filter(~col(\"order_id\").isin(dup_ord_ids))\n",
    "\n",
    "display(orders_wo_dups)"
   ]
  },
  {
   "cell_type": "code",
   "execution_count": 0,
   "metadata": {
    "application/vnd.databricks.v1+cell": {
     "cellMetadata": {
      "byteLimit": 2048000,
      "rowLimit": 10000
     },
     "inputWidgets": {},
     "nuid": "27109413-7799-4fe8-a971-2fab2b111cf5",
     "showTitle": false,
     "title": ""
    }
   },
   "outputs": [
    {
     "output_type": "execute_result",
     "data": {
      "text/plain": [
       "DataFrame[order_id: int, order_date: string, customer_id: int, order_status: string, ingest_date: string]"
      ]
     },
     "execution_count": 57,
     "metadata": {},
     "output_type": "execute_result"
    }
   ],
   "source": [
    "write_df(orders_wo_dups, \"parquet\", \"/mnt/retailadls218/staging/orders/\", \"overwrite\")"
   ]
  },
  {
   "cell_type": "code",
   "execution_count": 0,
   "metadata": {
    "application/vnd.databricks.v1+cell": {
     "cellMetadata": {},
     "inputWidgets": {},
     "nuid": "638b4b6f-7479-48d7-bb33-72c4aa3778cf",
     "showTitle": false,
     "title": ""
    }
   },
   "outputs": [],
   "source": []
  }
 ],
 "metadata": {
  "application/vnd.databricks.v1+notebook": {
   "dashboards": [],
   "language": "python",
   "notebookMetadata": {
    "pythonIndentUnit": 4
   },
   "notebookName": "orders",
   "widgets": {}
  }
 },
 "nbformat": 4,
 "nbformat_minor": 0
}
