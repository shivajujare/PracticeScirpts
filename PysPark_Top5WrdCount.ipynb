{
 "cells": [
  {
   "cell_type": "code",
   "execution_count": 1,
   "id": "a309c8ac",
   "metadata": {},
   "outputs": [],
   "source": [
    "from pyspark import SparkContext, SparkConf"
   ]
  },
  {
   "cell_type": "code",
   "execution_count": 11,
   "id": "fe51bcf0",
   "metadata": {},
   "outputs": [
    {
     "name": "stdout",
     "output_type": "stream",
     "text": [
      "('data', 361)\n",
      "('big', 285)\n",
      "('in', 171)\n",
      "('training', 114)\n",
      "('course', 105)\n"
     ]
    }
   ],
   "source": [
    "#Find most searched word from the file\n",
    "\n",
    "sc = SparkContext.getOrCreate(SparkConf())\n",
    "\n",
    "input = sc.textFile(\"/user/itv004483/sparkinput/search_data.txt\")\n",
    "\n",
    "flatmaps = input.flatMap(lambda x : x.split(\" \")).map(lambda x: x.lower())\n",
    "\n",
    "mapCount = flatmaps.map(lambda x: (x,1))\n",
    "\n",
    "reduceKey = mapCount.reduceByKey(lambda x,y: (x+y)).sortBy(lambda x: x[1], False)\n",
    "\n",
    "res = reduceKey.take(5)\n",
    "\n",
    "for i in res:\n",
    "    print(i)"
   ]
  },
  {
   "cell_type": "code",
   "execution_count": null,
   "id": "e4142a1e",
   "metadata": {},
   "outputs": [],
   "source": []
  }
 ],
 "metadata": {
  "kernelspec": {
   "display_name": "Pyspark 2",
   "language": "python",
   "name": "pyspark2"
  },
  "language_info": {
   "codemirror_mode": {
    "name": "ipython",
    "version": 3
   },
   "file_extension": ".py",
   "mimetype": "text/x-python",
   "name": "python",
   "nbconvert_exporter": "python",
   "pygments_lexer": "ipython3",
   "version": "3.6.12"
  }
 },
 "nbformat": 4,
 "nbformat_minor": 5
}
