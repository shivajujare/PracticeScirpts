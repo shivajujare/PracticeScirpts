{
 "cells": [
  {
   "cell_type": "code",
   "execution_count": 49,
   "id": "3e0dee86",
   "metadata": {},
   "outputs": [
    {
     "data": {
      "text/plain": [
       "schema = StructType(StructField(country,StringType,true), StructField(weeknum,IntegerType,true), StructField(numInvoices,IntegerType,true), StructField(totalquantity,IntegerType,true), StructField(invoicevalue,FloatType,true))\n",
       "InvoiceDF = [country: string, weeknum: int ... 3 more fields]\n"
      ]
     },
     "metadata": {},
     "output_type": "display_data",
     "source": "user"
    },
    {
     "data": {
      "text/plain": [
       "[country: string, weeknum: int ... 3 more fields]"
      ]
     },
     "execution_count": 49,
     "metadata": {},
     "output_type": "execute_result"
    }
   ],
   "source": [
    "import org.apache.spark.sql.types.{StringType, IntegerType, FloatType, StructType, StructField}\n",
    "\n",
    "val schema = StructType(\n",
    "    List(\n",
    "            StructField(\"country\", StringType),\n",
    "            StructField(\"weeknum\", IntegerType),\n",
    "            StructField(\"numInvoices\", IntegerType),\n",
    "            StructField(\"totalquantity\", IntegerType),\n",
    "            StructField(\"invoicevalue\", FloatType)\n",
    "\n",
    "        ))\n",
    "\n",
    "val InvoiceDF = spark.read\n",
    "                .format(\"csv\")\n",
    "                .option(\"header\", false)\n",
    "                .schema(schema)\n",
    "                .option(\"path\", \"/user/itv004483/sparkinput/windowdata.csv\")\n",
    "                .load()\n"
   ]
  },
  {
   "cell_type": "code",
   "execution_count": 50,
   "id": "e2b672bb",
   "metadata": {},
   "outputs": [
    {
     "name": "stdout",
     "output_type": "stream",
     "text": [
      "+---------------+-------+-----------+-------------+------------+------------------+\n",
      "|        country|weeknum|numInvoices|totalquantity|invoicevalue|    RunningInvoice|\n",
      "+---------------+-------+-----------+-------------+------------+------------------+\n",
      "|      Australia|     48|          1|          107|      358.25|            358.25|\n",
      "|      Australia|     49|          1|          214|       258.9| 617.1499938964844|\n",
      "|      Australia|     50|          2|          133|      387.95|1005.1000061035156|\n",
      "|        Austria|     50|          2|            3|      257.04| 257.0400085449219|\n",
      "|        Bahrain|     51|          1|           54|      205.74|205.74000549316406|\n",
      "|        Belgium|     48|          1|          528|       346.1| 346.1000061035156|\n",
      "|        Belgium|     50|          2|          285|      625.16| 971.2599792480469|\n",
      "|        Belgium|     51|          2|          942|      838.65|1809.9100036621094|\n",
      "|Channel Islands|     49|          1|           80|      363.53| 363.5299987792969|\n",
      "|         Cyprus|     50|          1|          917|     1590.82|1590.8199462890625|\n",
      "|        Denmark|     49|          1|          454|      1281.5|            1281.5|\n",
      "|        Finland|     50|          1|         1254|       892.8| 892.7999877929688|\n",
      "|         France|     48|          4|         1299|     2808.16| 2808.159912109375|\n",
      "|         France|     49|          9|         2303|     4527.01| 7335.169677734375|\n",
      "|         France|     50|          6|          529|      537.32| 7872.489685058594|\n",
      "|         France|     51|          5|          847|     1702.87| 9575.359680175781|\n",
      "|        Germany|     48|         11|         1795|     3309.75|           3309.75|\n",
      "|        Germany|     49|         12|         1852|     4521.39|  7831.14013671875|\n",
      "|        Germany|     50|         15|         1973|     5065.79| 12896.93017578125|\n",
      "|        Germany|     51|          5|         1103|     1665.91|14562.840209960938|\n",
      "+---------------+-------+-----------+-------------+------------+------------------+\n",
      "only showing top 20 rows\n",
      "\n"
     ]
    },
    {
     "data": {
      "text/plain": [
       "period = org.apache.spark.sql.expressions.WindowSpec@2e286e31\n",
       "RunInvDF = [country: string, weeknum: int ... 4 more fields]\n"
      ]
     },
     "metadata": {},
     "output_type": "display_data",
     "source": "user"
    },
    {
     "data": {
      "text/plain": [
       "[country: string, weeknum: int ... 4 more fields]"
      ]
     },
     "execution_count": 50,
     "metadata": {},
     "output_type": "execute_result"
    }
   ],
   "source": [
    "//find the running total per week for each country\n",
    "\n",
    "import org.apache.spark.sql.functions.{col, sum}\n",
    "import org.apache.spark.sql.expressions.Window\n",
    "                                      \n",
    "val period = Window\n",
    "                .partitionBy(col(\"country\"))\n",
    "                .orderBy(col(\"weeknum\"))\n",
    "                .rowsBetween(Window.unboundedPreceding, Window.currentRow)\n",
    "\n",
    "\n",
    "val RunInvDF = InvoiceDF\n",
    "            .withColumn(\"RunningInvoice\",sum(\"invoicevalue\").over(period))\n",
    "            .sort(\"country\",\"weeknum\")\n",
    "           \n",
    "\n",
    "RunInvDF.show            "
   ]
  },
  {
   "cell_type": "code",
   "execution_count": 51,
   "id": "92029b32",
   "metadata": {},
   "outputs": [
    {
     "name": "stdout",
     "output_type": "stream",
     "text": [
      "+---------------+-------+------------+------------------+\n",
      "|        country|weeknum|invoicevalue|      RunningTotal|\n",
      "+---------------+-------+------------+------------------+\n",
      "|      Australia|     48|      358.25|            358.25|\n",
      "|      Australia|     49|       258.9| 617.1499938964844|\n",
      "|      Australia|     50|      387.95|1005.1000061035156|\n",
      "|        Austria|     50|      257.04| 257.0400085449219|\n",
      "|        Bahrain|     51|      205.74|205.74000549316406|\n",
      "|        Belgium|     48|       346.1| 346.1000061035156|\n",
      "|        Belgium|     50|      625.16| 971.2599792480469|\n",
      "|        Belgium|     51|      838.65|1809.9100036621094|\n",
      "|Channel Islands|     49|      363.53| 363.5299987792969|\n",
      "|         Cyprus|     50|     1590.82|1590.8199462890625|\n",
      "|        Denmark|     49|      1281.5|            1281.5|\n",
      "|        Finland|     50|       892.8| 892.7999877929688|\n",
      "|         France|     48|     2808.16| 2808.159912109375|\n",
      "|         France|     49|     4527.01| 7335.169677734375|\n",
      "|         France|     50|      537.32| 7872.489685058594|\n",
      "|         France|     51|     1702.87| 9575.359680175781|\n",
      "|        Germany|     48|     3309.75|           3309.75|\n",
      "|        Germany|     49|     4521.39|  7831.14013671875|\n",
      "|        Germany|     50|     5065.79| 12896.93017578125|\n",
      "|        Germany|     51|     1665.91|14562.840209960938|\n",
      "+---------------+-------+------------+------------------+\n",
      "only showing top 20 rows\n",
      "\n"
     ]
    }
   ],
   "source": [
    "//validate with spark sql\n",
    "InvoiceDF.createOrReplaceTempView(\"InvoiceDFTBL\")\n",
    "\n",
    "spark.sql(\"\"\"\n",
    "select country, weeknum, invoicevalue, sum(invoicevalue) over(partition by country order by weeknum) as RunningTotal\n",
    "from InvoiceDFTBL order by country, weeknum\n",
    "\"\"\").show"
   ]
  },
  {
   "cell_type": "code",
   "execution_count": 52,
   "id": "9fad0f25",
   "metadata": {},
   "outputs": [
    {
     "name": "stdout",
     "output_type": "stream",
     "text": [
      "+---------------+-------+-----------+-------------+------------+------------------+-------------------+\n",
      "|        country|weeknum|numInvoices|totalquantity|invoicevalue|    RunningInvoice|Total Invoice value|\n",
      "+---------------+-------+-----------+-------------+------------+------------------+-------------------+\n",
      "|      Australia|     48|          1|          107|      358.25|            358.25| 1005.1000061035156|\n",
      "|      Australia|     49|          1|          214|       258.9| 617.1499938964844| 1005.1000061035156|\n",
      "|      Australia|     50|          2|          133|      387.95|1005.1000061035156| 1005.1000061035156|\n",
      "|        Austria|     50|          2|            3|      257.04| 257.0400085449219|  257.0400085449219|\n",
      "|        Bahrain|     51|          1|           54|      205.74|205.74000549316406| 205.74000549316406|\n",
      "|        Belgium|     48|          1|          528|       346.1| 346.1000061035156| 1809.9100036621094|\n",
      "|        Belgium|     50|          2|          285|      625.16| 971.2599792480469| 1809.9100036621094|\n",
      "|        Belgium|     51|          2|          942|      838.65|1809.9100036621094| 1809.9100036621094|\n",
      "|Channel Islands|     49|          1|           80|      363.53| 363.5299987792969|  363.5299987792969|\n",
      "|         Cyprus|     50|          1|          917|     1590.82|1590.8199462890625| 1590.8199462890625|\n",
      "|        Denmark|     49|          1|          454|      1281.5|            1281.5|             1281.5|\n",
      "|        Finland|     50|          1|         1254|       892.8| 892.7999877929688|  892.7999877929688|\n",
      "|         France|     48|          4|         1299|     2808.16| 2808.159912109375|  9575.359680175781|\n",
      "|         France|     49|          9|         2303|     4527.01| 7335.169677734375|  9575.359680175781|\n",
      "|         France|     50|          6|          529|      537.32| 7872.489685058594|  9575.359680175781|\n",
      "|         France|     51|          5|          847|     1702.87| 9575.359680175781|  9575.359680175781|\n",
      "|        Germany|     48|         11|         1795|     3309.75|           3309.75| 14562.840209960938|\n",
      "|        Germany|     49|         12|         1852|     4521.39|  7831.14013671875| 14562.840209960938|\n",
      "|        Germany|     50|         15|         1973|     5065.79| 12896.93017578125| 14562.840209960938|\n",
      "|        Germany|     51|          5|         1103|     1665.91|14562.840209960938| 14562.840209960938|\n",
      "+---------------+-------+-----------+-------------+------------+------------------+-------------------+\n",
      "only showing top 20 rows\n",
      "\n"
     ]
    },
    {
     "data": {
      "text/plain": [
       "totInvWindow = org.apache.spark.sql.expressions.WindowSpec@3077a9c9\n",
       "totInvDF = [country: string, weeknum: int ... 5 more fields]\n"
      ]
     },
     "metadata": {},
     "output_type": "display_data",
     "source": "user"
    },
    {
     "data": {
      "text/plain": [
       "[country: string, weeknum: int ... 5 more fields]"
      ]
     },
     "execution_count": 52,
     "metadata": {},
     "output_type": "execute_result"
    }
   ],
   "source": [
    "//add totoal invoice value\n",
    "\n",
    "import org.apache.spark.sql.expressions.Window\n",
    "import org.apache.spark.sql.functions.sum\n",
    "\n",
    "val totInvWindow = Window\n",
    "                    .partitionBy(\"country\")\n",
    "\n",
    "val totInvDF = RunInvDF\n",
    "                    .withColumn(\"Total Invoice value\", sum(\"invoicevalue\").over(totInvWindow))\n",
    "                    .sort(\"country\",\"weeknum\")\n",
    "\n",
    "totInvDF.show\n"
   ]
  },
  {
   "cell_type": "code",
   "execution_count": 53,
   "id": "49902c9f",
   "metadata": {},
   "outputs": [
    {
     "name": "stdout",
     "output_type": "stream",
     "text": [
      "+---------------+-------+------------+------------------+------------------+\n",
      "|        country|weeknum|invoicevalue|    RunningInvoice|      TotalInvoice|\n",
      "+---------------+-------+------------+------------------+------------------+\n",
      "|      Australia|     48|      358.25|            358.25|1005.1000061035156|\n",
      "|      Australia|     49|       258.9| 617.1499938964844|1005.1000061035156|\n",
      "|      Australia|     50|      387.95|1005.1000061035156|1005.1000061035156|\n",
      "|        Austria|     50|      257.04| 257.0400085449219| 257.0400085449219|\n",
      "|        Bahrain|     51|      205.74|205.74000549316406|205.74000549316406|\n",
      "|        Belgium|     48|       346.1| 346.1000061035156|1809.9100036621094|\n",
      "|        Belgium|     50|      625.16| 971.2599792480469|1809.9100036621094|\n",
      "|        Belgium|     51|      838.65|1809.9100036621094|1809.9100036621094|\n",
      "|Channel Islands|     49|      363.53| 363.5299987792969| 363.5299987792969|\n",
      "|         Cyprus|     50|     1590.82|1590.8199462890625|1590.8199462890625|\n",
      "|        Denmark|     49|      1281.5|            1281.5|            1281.5|\n",
      "|        Finland|     50|       892.8| 892.7999877929688| 892.7999877929688|\n",
      "|         France|     48|     2808.16| 2808.159912109375| 9575.359680175781|\n",
      "|         France|     49|     4527.01| 7335.169677734375| 9575.359680175781|\n",
      "|         France|     50|      537.32| 7872.489685058594| 9575.359680175781|\n",
      "|         France|     51|     1702.87| 9575.359680175781| 9575.359680175781|\n",
      "|        Germany|     48|     3309.75|           3309.75|14562.840209960938|\n",
      "|        Germany|     49|     4521.39|  7831.14013671875|14562.840209960938|\n",
      "|        Germany|     50|     5065.79| 12896.93017578125|14562.840209960938|\n",
      "|        Germany|     51|     1665.91|14562.840209960938|14562.840209960938|\n",
      "+---------------+-------+------------+------------------+------------------+\n",
      "only showing top 20 rows\n",
      "\n"
     ]
    }
   ],
   "source": [
    "//validate with spark SQL\n",
    "\n",
    "RunInvDF.createOrReplaceTempView(\"RunInvDF\")\n",
    "spark.sql(\"\"\"\n",
    "select country, weeknum, invoicevalue, RunningInvoice, sum(invoicevalue) over(partition by country) as TotalInvoice\n",
    "from RunInvDF order by country, weeknum\n",
    "\"\"\").show"
   ]
  },
  {
   "cell_type": "code",
   "execution_count": null,
   "id": "d00a6d66",
   "metadata": {},
   "outputs": [],
   "source": []
  }
 ],
 "metadata": {
  "kernelspec": {
   "display_name": "Spark 2 - Scala",
   "language": "scala",
   "name": "spark_2_scala"
  },
  "language_info": {
   "codemirror_mode": "text/x-scala",
   "file_extension": ".scala",
   "mimetype": "text/x-scala",
   "name": "scala",
   "pygments_lexer": "scala",
   "version": "2.11.12"
  }
 },
 "nbformat": 4,
 "nbformat_minor": 5
}
