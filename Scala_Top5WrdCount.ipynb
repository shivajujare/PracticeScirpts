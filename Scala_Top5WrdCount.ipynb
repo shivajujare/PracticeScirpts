{
 "cells": [
  {
   "cell_type": "code",
   "execution_count": 16,
   "id": "ce25c1db",
   "metadata": {},
   "outputs": [
    {
     "data": {
      "text/plain": [
       "input = /user/itv004483/sparkinput/search_data.txt MapPartitionsRDD[46] at textFile at <console>:32\n",
       "flatwords = MapPartitionsRDD[48] at map at <console>:34\n",
       "mapCount = MapPartitionsRDD[49] at map at <console>:36\n",
       "reduceKey = MapPartitionsRDD[55] at sortBy at <console>:38\n"
      ]
     },
     "metadata": {},
     "output_type": "display_data",
     "source": "user"
    },
    {
     "data": {
      "text/plain": [
       "Array((data,361), (big,285), (in,171), (training,114), (course,105))"
      ]
     },
     "execution_count": 16,
     "metadata": {},
     "output_type": "execute_result"
    }
   ],
   "source": [
    "//Find out most searched word from the file\n",
    "\n",
    "val input = sc.textFile(\"/user/itv004483/sparkinput/search_data.txt\")\n",
    "\n",
    "val flatwords = input.flatMap(_.split(\" \")).map(_.toLowerCase())\n",
    "\n",
    "val mapCount = flatwords.map((_,1))\n",
    "\n",
    "val reduceKey = mapCount.reduceByKey((x,y) => x+y).sortBy(x=> x._2, false)\n",
    "reduceKey.collect().take(5)\n"
   ]
  },
  {
   "cell_type": "code",
   "execution_count": null,
   "id": "556afecc",
   "metadata": {},
   "outputs": [],
   "source": []
  }
 ],
 "metadata": {
  "kernelspec": {
   "display_name": "Spark 2 - Scala",
   "language": "scala",
   "name": "spark_2_scala"
  },
  "language_info": {
   "codemirror_mode": "text/x-scala",
   "file_extension": ".scala",
   "mimetype": "text/x-scala",
   "name": "scala",
   "pygments_lexer": "scala",
   "version": "2.11.12"
  }
 },
 "nbformat": 4,
 "nbformat_minor": 5
}
